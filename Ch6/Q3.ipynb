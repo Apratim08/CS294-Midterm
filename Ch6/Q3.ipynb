{
 "cells": [
  {
   "cell_type": "markdown",
   "metadata": {},
   "source": [
    "### Chapter 6, Q3(a) Create a long random string using a Python program, and use a lossless compression algorithm of your choice to compress the string. Note the compression ratio."
   ]
  },
  {
   "cell_type": "code",
   "execution_count": 1,
   "metadata": {},
   "outputs": [
    {
     "name": "stdout",
     "output_type": "stream",
     "text": [
      "Original size: 100000 bytes\n",
      "Compressed size: 75326 bytes\n",
      "Compression ratio: 1.3275628601014258\n"
     ]
    }
   ],
   "source": [
    "import random\n",
    "import string\n",
    "import zipfile\n",
    "import io\n",
    "\n",
    "# Generate a long random string\n",
    "random_string = ''.join(random.choices(string.ascii_letters + string.digits, k=100000))\n",
    "\n",
    "# Convert the string to bytes\n",
    "random_bytes = random_string.encode('utf-8')\n",
    "\n",
    "# Compress the string using ZIP compression\n",
    "compressed_data = io.BytesIO()\n",
    "with zipfile.ZipFile(compressed_data, mode=\"w\", compression=zipfile.ZIP_DEFLATED) as zf:\n",
    "    zf.writestr(\"random_string.txt\", random_bytes)\n",
    "\n",
    "compressed_data.seek(0)\n",
    "compressed_bytes = compressed_data.getvalue()\n",
    "\n",
    "# Calculate the compression ratio\n",
    "compression_ratio = len(random_bytes) / len(compressed_bytes)\n",
    "\n",
    "print(\"Original size:\", len(random_bytes), \"bytes\")\n",
    "print(\"Compressed size:\", len(compressed_bytes), \"bytes\")\n",
    "print(\"Compression ratio:\", compression_ratio)\n"
   ]
  },
  {
   "cell_type": "markdown",
   "metadata": {},
   "source": [
    "### Chapter 6, Q3(b) What is the expected compression ratio in (a)? Explain why?"
   ]
  },
  {
   "cell_type": "markdown",
   "metadata": {},
   "source": [
    "The expected compression ratio in the code provided in (a) would likely be very close to 1.0 or even slightly greater than 1.0. This is because the generated random string is unlikely to have much redundancy or repetitive patterns that compression algorithms like the ZIP algorithm which utilizes DEFLATE, which is a combination of LZ77 and Huffman coding. The random string consists of characters randomly chosen from the set of ASCII letters and digits. Random data lacks predictable patterns or repeated sequences, making it difficult for compression algorithms to achieve significant compression."
   ]
  }
 ],
 "metadata": {
  "kernelspec": {
   "display_name": "Python 3",
   "language": "python",
   "name": "python3"
  },
  "language_info": {
   "codemirror_mode": {
    "name": "ipython",
    "version": 3
   },
   "file_extension": ".py",
   "mimetype": "text/x-python",
   "name": "python",
   "nbconvert_exporter": "python",
   "pygments_lexer": "ipython3",
   "version": "3.12.1"
  }
 },
 "nbformat": 4,
 "nbformat_minor": 2
}
